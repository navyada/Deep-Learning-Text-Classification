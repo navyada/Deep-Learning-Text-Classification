{
 "cells": [
  {
   "cell_type": "markdown",
   "id": "d6da0cde",
   "metadata": {},
   "source": [
    "# Neural Networks and Deep Learning for Text Classification \n",
    "Navyada Koshatwar\n",
    "Github: navyada"
   ]
  },
  {
   "cell_type": "markdown",
   "id": "eead9fb9",
   "metadata": {},
   "source": [
    "##  1. Build a classifier to analyze the sentiment of reviews. Data is split into two folders: one with positive reviews, one with negative reviews"
   ]
  },
  {
   "cell_type": "code",
   "execution_count": 2,
   "id": "86dff0f6",
   "metadata": {},
   "outputs": [],
   "source": [
    "#necessary imports\n",
    "from tensorflow import keras\n",
    "import os\n",
    "import numpy as np\n",
    "from keras.preprocessing.text import Tokenizer\n",
    "import matplotlib.pyplot as plt\n",
    "import numpy as np\n",
    "from tensorflow.keras.preprocessing.sequence import pad_sequences\n",
    "import tensorflow as tf\n",
    "from tensorflow.keras.layers import Embedding\n",
    "from tensorflow.keras.layers import Flatten"
   ]
  },
  {
   "cell_type": "markdown",
   "id": "0a395d46",
   "metadata": {},
   "source": [
    "### 1.a)  Set up encoding: y = 1 for positive sentiments and y = −1 for negative sentiments. Remove the punctuation and numbers from the data. Text files 0-699 in each class are used for training and 700-999 are used for testing.\n"
   ]
  },
  {
   "cell_type": "code",
   "execution_count": 20,
   "id": "cd29851e",
   "metadata": {},
   "outputs": [],
   "source": [
    "#set up positive test and train sets (punctuation removed)\n",
    "directorypos = 'Data/pos'\n",
    "postrain = []\n",
    "postest = []\n",
    "negtrain = []\n",
    "negtest = []\n",
    "\n",
    "punc = '''!()-[]{};:'\"\\,<>./?@#$%^&*_~0123456789'''\n",
    "\n",
    "for filename in os.listdir(directorypos):\n",
    "    if int(filename[2:5]) <= 699:\n",
    "        f = open(\"Data/pos/\"+filename, 'r')\n",
    "        f = f.read()\n",
    "        for ele in f:\n",
    "            if ele in punc: \n",
    "                f = f.replace(ele, \"\")\n",
    "        postrain.append(f)\n",
    "    else:\n",
    "        f = open(\"Data/pos/\"+filename, 'r')\n",
    "        f = f.read()\n",
    "        for ele in f:\n",
    "            if ele in punc: \n",
    "                f = f.replace(ele, \"\")\n",
    "        postest.append(f)\n",
    "\n",
    "#set up negative test and train sets (punctuation removed)\n",
    "directoryneg = 'Data/neg'\n",
    "for filename in os.listdir(directoryneg):\n",
    "    if int(filename[2:5]) <= 699:\n",
    "        f = open(\"Data/neg/\"+filename, 'r')\n",
    "        f = f.read()\n",
    "        for ele in f:\n",
    "            if ele in punc: \n",
    "                f = f.replace(ele, \"\")\n",
    "        negtrain.append(f)\n",
    "    else:\n",
    "        f = open(\"Data/neg/\"+filename, 'r')\n",
    "        f = f.read()\n",
    "        for ele in f:\n",
    "            if ele in punc: \n",
    "                f = f.replace(ele, \"\")\n",
    "        negtest.append(f)\n",
    "\n"
   ]
  },
  {
   "cell_type": "markdown",
   "id": "8a9c420e",
   "metadata": {},
   "source": [
    "### 1.b) Printing out the number of unique words in the whole dataset"
   ]
  },
  {
   "cell_type": "code",
   "execution_count": 21,
   "id": "82a792e8",
   "metadata": {},
   "outputs": [
    {
     "name": "stdout",
     "output_type": "stream",
     "text": [
      "Number of unique words: 46829\n"
     ]
    }
   ],
   "source": [
    "#attaching labels to the data to signify positive or negative\n",
    "alldata = []\n",
    "labels = []\n",
    "for x in postrain:\n",
    "    alldata.append(x)\n",
    "    labels.append(1)\n",
    "for x in negtrain:\n",
    "    alldata.append(x)\n",
    "    labels.append(-1)\n",
    "for x in postest: \n",
    "    alldata.append(x)\n",
    "    labels.append(1)\n",
    "for x in negtest:\n",
    "    alldata.append(x)\n",
    "    labels.append(-1)\n",
    "\n",
    "#using Tokenizer to count the unique words \n",
    "t = Tokenizer()\n",
    "t.fit_on_texts(alldata)\n",
    "print(\"Number of unique words:\", len(t.word_index))\n"
   ]
  },
  {
   "cell_type": "code",
   "execution_count": 22,
   "id": "b8c8e85d",
   "metadata": {},
   "outputs": [],
   "source": [
    "#needed to convert the labels to 0 or 1 for future steps\n",
    "sig_lab = []\n",
    "for x in postrain:\n",
    "    sig_lab.append(1)\n",
    "for x in negtrain:\n",
    "    sig_lab.append(0)\n",
    "for x in postest:\n",
    "    sig_lab.append(1)\n",
    "for x in negtest:\n",
    "    sig_lab.append(0)\n",
    "sig_lab = np.array(sig_lab)"
   ]
  },
  {
   "cell_type": "markdown",
   "id": "decc341a",
   "metadata": {},
   "source": [
    "### 1.c) Found the average review length and the standard deviation of review lengths. "
   ]
  },
  {
   "cell_type": "code",
   "execution_count": 23,
   "id": "0607ecc2",
   "metadata": {},
   "outputs": [
    {
     "name": "stdout",
     "output_type": "stream",
     "text": [
      "Average review length: 644.5415\n",
      "Standard deviation: 285.0149351836672\n"
     ]
    }
   ],
   "source": [
    "length = []\n",
    "for each in postrain:\n",
    "    l = list(each.split())\n",
    "    length.append(len(l))\n",
    "for each in postest: \n",
    "    l = list(each.split())\n",
    "    length.append(len(l))\n",
    "for each in negtrain:\n",
    "    l = list(each.split())\n",
    "    length.append(len(l))\n",
    "for each in negtest:\n",
    "    l = list(each.split())\n",
    "    length.append(len(l))\n",
    "print(\"Average review length:\", sum(length)/len(length))\n",
    "print(\"Standard deviation:\", np.std(length))"
   ]
  },
  {
   "cell_type": "markdown",
   "id": "2efa08fb",
   "metadata": {},
   "source": [
    "### 1.c) Plot the histogram of review lengths"
   ]
  },
  {
   "cell_type": "code",
   "execution_count": 24,
   "id": "4c097083",
   "metadata": {},
   "outputs": [
    {
     "data": {
      "image/png": "[encoded data removed]",
      "text/plain": [
       "<Figure size 432x288 with 1 Axes>"
      ]
     },
     "metadata": {
      "needs_background": "light"
     },
     "output_type": "display_data"
    }
   ],
   "source": [
    "\n",
    "plt.hist(length)\n",
    "plt.xlabel('Length')\n",
    "plt.ylabel('Frequency')\n",
    "plt.title('Frequency of Lengths in Documents')\n",
    "plt.show()\n"
   ]
  },
  {
   "cell_type": "markdown",
   "id": "54e2d34c",
   "metadata": {},
   "source": [
    "### 1.d)  Tokenize each text document using rank"
   ]
  },
  {
   "cell_type": "code",
   "execution_count": 25,
   "id": "0ae42a06",
   "metadata": {},
   "outputs": [],
   "source": [
    "train = alldata[0:1400]\n",
    "test = alldata[1400:]\n",
    "t = Tokenizer(5000)\n",
    "t.fit_on_texts(train)\n",
    "sequences = t.texts_to_sequences(train)\n",
    "sequences_test = t.texts_to_sequences(test)"
   ]
  },
  {
   "cell_type": "markdown",
   "id": "0d059078",
   "metadata": {},
   "source": [
    "### 1.e) Select a review length L that 70% of the reviews have a length below it. "
   ]
  },
  {
   "cell_type": "code",
   "execution_count": 26,
   "id": "bd579203",
   "metadata": {},
   "outputs": [
    {
     "name": "stdout",
     "output_type": "stream",
     "text": [
      "737\n"
     ]
    }
   ],
   "source": [
    "lengthsorted = sorted(length)\n",
    "print(lengthsorted[1399])"
   ]
  },
  {
   "cell_type": "markdown",
   "id": "34676f94",
   "metadata": {},
   "source": [
    "L = 737"
   ]
  },
  {
   "cell_type": "markdown",
   "id": "a69af065",
   "metadata": {},
   "source": [
    "### 1.f) Shape reviews so that they are all length L."
   ]
  },
  {
   "cell_type": "code",
   "execution_count": 27,
   "id": "a84c5074",
   "metadata": {},
   "outputs": [],
   "source": [
    "shaped_train_5000 = pad_sequences(sequences, maxlen = 737)\n",
    "shaped_test_5000 = pad_sequences(sequences_test, maxlen = 737)"
   ]
  },
  {
   "cell_type": "markdown",
   "id": "217d61ed",
   "metadata": {},
   "source": [
    "### 1.g) Created an embedding layer using the top 5000 words. Length of the embedding vector for each word is 32. Flatten the matrix of each document to a vector."
   ]
  },
  {
   "cell_type": "code",
   "execution_count": 28,
   "id": "e809f069",
   "metadata": {},
   "outputs": [],
   "source": [
    "L = 737\n",
    "top_words = 5001\n",
    "max_words = L\n",
    "embedding = Embedding(top_words, 32, input_length=max_words)\n",
    "flatten = Flatten()"
   ]
  },
  {
   "cell_type": "markdown",
   "id": "d1fa3a6b",
   "metadata": {},
   "source": [
    "## Multi-Layer Perceptron\n",
    "### 2. Train a MLP with three hidden layers each of which has 50 ReLUs and one output layer with a single sigmoid neuron. Set epochs to 2 to avoid overfitting. "
   ]
  },
  {
   "cell_type": "code",
   "execution_count": 29,
   "id": "d49bffa7",
   "metadata": {},
   "outputs": [
    {
     "name": "stdout",
     "output_type": "stream",
     "text": [
      "Epoch 1/2\n",
      "140/140 [==============================] - 3s 15ms/step - loss: 0.6959 - accuracy: 0.5129\n",
      "Epoch 2/2\n",
      "140/140 [==============================] - 2s 15ms/step - loss: 0.6642 - accuracy: 0.5843\n"
     ]
    },
    {
     "data": {
      "text/plain": [
       "<keras.callbacks.History at 0x14d5f36d0>"
      ]
     },
     "execution_count": 29,
     "metadata": {},
     "output_type": "execute_result"
    }
   ],
   "source": [
    "model = tf.keras.models.Sequential()\n",
    "model.add(embedding)\n",
    "model.add(flatten)\n",
    "\n",
    "firstDense = tf.keras.layers.Dense(units=50, activation='relu')\n",
    "model.add(firstDense)\n",
    "\n",
    "firstDropout = tf.keras.layers.Dropout(.2)\n",
    "model.add(firstDropout)\n",
    "\n",
    "secondDense = tf.keras.layers.Dense(units=50, activation='relu')\n",
    "model.add(secondDense)\n",
    "\n",
    "nextDropout = tf.keras.layers.Dropout(.5)\n",
    "model.add(nextDropout)\n",
    "\n",
    "thirdDense = tf.keras.layers.Dense(units=50, activation='relu')\n",
    "model.add(thirdDense)\n",
    "\n",
    "model.add(nextDropout)\n",
    "\n",
    "lastDense = tf.keras.layers.Dense(units=1, activation = 'sigmoid')\n",
    "model.add(lastDense)\n",
    "\n",
    "model.compile(optimizer='Adam', loss='binary_crossentropy', metrics='accuracy')\n",
    "model.fit(shaped_train_5000, sig_lab[0:1400], epochs=2, batch_size=10)"
   ]
  },
  {
   "cell_type": "code",
   "execution_count": 30,
   "id": "8f1d27d1",
   "metadata": {},
   "outputs": [
    {
     "name": "stdout",
     "output_type": "stream",
     "text": [
      "44/44 [==============================] - 0s 5ms/step - loss: 0.5142 - accuracy: 0.7586\n",
      "Train accuracy: 0.758571445941925\n"
     ]
    }
   ],
   "source": [
    "loss, acc = model.evaluate(shaped_train_5000, sig_lab[0:1400])\n",
    "print(\"Train accuracy:\", acc)"
   ]
  },
  {
   "cell_type": "code",
   "execution_count": 31,
   "id": "6e87faa1",
   "metadata": {},
   "outputs": [
    {
     "name": "stdout",
     "output_type": "stream",
     "text": [
      "19/19 [==============================] - 0s 5ms/step - loss: 0.6756 - accuracy: 0.5717\n",
      "Test accuracy 0.5716666579246521\n"
     ]
    }
   ],
   "source": [
    "loss, acc = model.evaluate(shaped_test_5000, sig_lab[1400:] )\n",
    "print(\"Test accuracy\", acc)"
   ]
  },
  {
   "cell_type": "code",
   "execution_count": 32,
   "id": "27dcb2e9",
   "metadata": {},
   "outputs": [
    {
     "name": "stdout",
     "output_type": "stream",
     "text": [
      "Model: \"sequential\"\n",
      "_________________________________________________________________\n",
      " Layer (type)                Output Shape              Param #   \n",
      "=================================================================\n",
      " embedding (Embedding)       (None, 737, 32)           160032    \n",
      "                                                                 \n",
      " flatten (Flatten)           (None, 23584)             0         \n",
      "                                                                 \n",
      " dense (Dense)               (None, 50)                1179250   \n",
      "                                                                 \n",
      " dropout (Dropout)           (None, 50)                0         \n",
      "                                                                 \n",
      " dense_1 (Dense)             (None, 50)                2550      \n",
      "                                                                 \n",
      " dropout_1 (Dropout)         (None, 50)                0         \n",
      "                                                                 \n",
      " dense_2 (Dense)             (None, 50)                2550      \n",
      "                                                                 \n",
      " dense_3 (Dense)             (None, 1)                 51        \n",
      "                                                                 \n",
      "=================================================================\n",
      "Total params: 1,344,433\n",
      "Trainable params: 1,344,433\n",
      "Non-trainable params: 0\n",
      "_________________________________________________________________\n",
      "None\n"
     ]
    }
   ],
   "source": [
    "print(model.summary())"
   ]
  },
  {
   "cell_type": "markdown",
   "id": "559a9103",
   "metadata": {},
   "source": [
    "## One Dimensional Convolutional Neural Network. \n",
    "\n",
    "### 3. Inserted a Conv1D layer after the embedding layer. This convolutional layer has 32 feature maps with kernel size of 3. The convolutional layer is followed by a 1D max pooling layer with a length and stride of 2. The rest of the network is the same as the neural network above.\n"
   ]
  },
  {
   "cell_type": "code",
   "execution_count": 33,
   "id": "01be1fdd",
   "metadata": {},
   "outputs": [
    {
     "name": "stdout",
     "output_type": "stream",
     "text": [
      "Epoch 1/2\n",
      "140/140 [==============================] - 4s 20ms/step - loss: 0.7004 - accuracy: 0.4907\n",
      "Epoch 2/2\n",
      "140/140 [==============================] - 2s 17ms/step - loss: 0.6871 - accuracy: 0.5521\n"
     ]
    },
    {
     "data": {
      "text/plain": [
       "<keras.callbacks.History at 0x14d56d850>"
      ]
     },
     "execution_count": 33,
     "metadata": {},
     "output_type": "execute_result"
    }
   ],
   "source": [
    "model = tf.keras.models.Sequential()\n",
    "L = 737\n",
    "top_words = 5001\n",
    "max_words = L\n",
    "#shaped_train_5000 = np.where(shaped_train > 5000, 0, shaped_train)\n",
    "embedding = Embedding(top_words, 32, input_length=max_words)\n",
    "conv1d = tf.keras.layers.Conv1D(32, 3)\n",
    "maxpool = tf.keras.layers.MaxPooling1D(2)\n",
    "flatten = Flatten()\n",
    "model.add(embedding)\n",
    "model.add(conv1d)\n",
    "model.add(maxpool)\n",
    "model.add(flatten)\n",
    "\n",
    "\n",
    "firstDense = tf.keras.layers.Dense(units=50, activation='relu')\n",
    "model.add(firstDense)\n",
    "firstDropout = tf.keras.layers.Dropout(.2)\n",
    "model.add(firstDropout)\n",
    "secondDense = tf.keras.layers.Dense(units=50, activation='relu')\n",
    "model.add(secondDense)\n",
    "nextDropout = tf.keras.layers.Dropout(.5)\n",
    "model.add(nextDropout)\n",
    "thirdDense = tf.keras.layers.Dense(units=50, activation='relu')\n",
    "model.add(thirdDense)\n",
    "model.add(nextDropout)\n",
    "lastDense = tf.keras.layers.Dense(units=1, activation = 'sigmoid')\n",
    "model.add(lastDense)\n",
    "model.compile(optimizer='Adam', loss='binary_crossentropy', metrics = 'accuracy')\n",
    "sig_lab = np.array(sig_lab)\n",
    "model.fit(shaped_train_5000, sig_lab[0:1400], epochs=2, batch_size=10)"
   ]
  },
  {
   "cell_type": "code",
   "execution_count": 34,
   "id": "e62aa17f",
   "metadata": {},
   "outputs": [
    {
     "name": "stdout",
     "output_type": "stream",
     "text": [
      "44/44 [==============================] - 0s 7ms/step - loss: 0.6208 - accuracy: 0.8693\n",
      "Train accuracy: 0.8692857027053833\n"
     ]
    }
   ],
   "source": [
    "loss, acc = model.evaluate(shaped_train_5000, sig_lab[0:1400])\n",
    "print(\"Train accuracy:\", acc)"
   ]
  },
  {
   "cell_type": "code",
   "execution_count": 35,
   "id": "87f6f35b",
   "metadata": {},
   "outputs": [
    {
     "name": "stdout",
     "output_type": "stream",
     "text": [
      "19/19 [==============================] - 0s 7ms/step - loss: 0.6727 - accuracy: 0.6867\n",
      "Test accuracy 0.6866666674613953\n"
     ]
    }
   ],
   "source": [
    "loss, acc = model.evaluate(shaped_test_5000, sig_lab[1400:] )\n",
    "print(\"Test accuracy\", acc)"
   ]
  },
  {
   "cell_type": "markdown",
   "id": "1bbdeb4c",
   "metadata": {},
   "source": [
    "## Long Short-Term Memory Recurrent Neural Network\n",
    "\n",
    "### 4. Each word is represented to LSTM as a vector of 32 elements and the LSTM is followed by a dense layer of 256 ReLUs. "
   ]
  },
  {
   "cell_type": "code",
   "execution_count": null,
   "id": "4fba7b6c",
   "metadata": {},
   "outputs": [
    {
     "name": "stdout",
     "output_type": "stream",
     "text": [
      "Epoch 1/20\n",
      "140/140 [==============================] - 30s 198ms/step - loss: 0.6944 - accuracy: 0.5200\n",
      "Epoch 2/20\n",
      "140/140 [==============================] - 27s 192ms/step - loss: 0.5311 - accuracy: 0.7429\n",
      "Epoch 3/20\n",
      "  4/140 [..............................] - ETA: 32s - loss: 0.1494 - accuracy: 1.0000"
     ]
    }
   ],
   "source": [
    "model = tf.keras.models.Sequential()\n",
    "embedding = Embedding(top_words, 32, input_length=max_words)\n",
    "model.add(embedding)\n",
    "lstm = tf.keras.layers.LSTM(32)\n",
    "model.add(lstm)\n",
    "firstDropout = tf.keras.layers.Dropout(.2)\n",
    "model.add(firstDropout)\n",
    "firstDense = tf.keras.layers.Dense(units=256, activation='relu')\n",
    "model.add(firstDense)\n",
    "model.add(firstDropout)\n",
    "lastDense = tf.keras.layers.Dense(units=1, activation = 'sigmoid')\n",
    "model.add(lastDense)\n",
    "model.compile(optimizer='Adam', loss='binary_crossentropy', metrics=['accuracy'])\n",
    "model.fit(shaped_train_5000, sig_lab[0:1400], epochs=20, batch_size=10)"
   ]
  },
  {
   "cell_type": "code",
   "execution_count": 43,
   "id": "ce82573c",
   "metadata": {},
   "outputs": [
    {
     "name": "stdout",
     "output_type": "stream",
     "text": [
      "44/44 [==============================] - 4s 73ms/step - loss: 9.4192e-06 - accuracy: 1.0000\n",
      "Train accuracy: 1.0\n"
     ]
    }
   ],
   "source": [
    "loss, acc = model.evaluate(shaped_train_5000, sig_lab[0:1400])\n",
    "print(\"Train accuracy:\", acc)"
   ]
  },
  {
   "cell_type": "code",
   "execution_count": 44,
   "id": "1c941ac5",
   "metadata": {},
   "outputs": [
    {
     "name": "stdout",
     "output_type": "stream",
     "text": [
      "19/19 [==============================] - 1s 76ms/step - loss: 1.5393 - accuracy: 0.7867\n",
      "Test accuracy 0.7866666913032532\n"
     ]
    }
   ],
   "source": [
    "loss, acc = model.evaluate(shaped_test_5000, sig_lab[1400:] )\n",
    "print(\"Test accuracy\", acc)"
   ]
  },
  {
   "cell_type": "markdown",
   "id": "89a9962e",
   "metadata": {},
   "source": [
    "References:  \n",
    "https://www.geeksforgeeks.org/python-remove-punctuation-from-string/\n",
    "https://www.geeksforgeeks.org/how-to-iterate-over-files-in-directory-using-python/\n",
    "https://www.w3schools.com/python/python_file_open.asp  \n",
    "https://stackoverflow.com/questions/51956000/what-does-keras-tokenizer-method-exactly-do  \n",
    "https://medium.com/geekculture/nlp-with-tensorflow-keras-explanation-and-tutorial-cae3554b1290  \n",
    "https://medium.com/analytics-vidhya/understanding-embedding-layer-in-keras-bbe3ff1327ce  \n",
    "https://stackoverflow.com/questions/40050397/deep-learning-nan-loss-reasons  \n",
    "https://machinelearningmastery.com/use-word-embedding-layers-deep-learning-keras/  \n",
    "\n",
    "\n"
   ]
  }
 ],
 "metadata": {
  "kernelspec": {
   "display_name": "Python 3",
   "language": "python",
   "name": "python3"
  },
  "language_info": {
   "codemirror_mode": {
    "name": "ipython",
    "version": 3
   },
   "file_extension": ".py",
   "mimetype": "text/x-python",
   "name": "python",
   "nbconvert_exporter": "python",
   "pygments_lexer": "ipython3",
   "version": "3.8.8"
  }
 },
 "nbformat": 4,
 "nbformat_minor": 5
}
